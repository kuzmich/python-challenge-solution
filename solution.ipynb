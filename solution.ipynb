{
 "cells": [
  {
   "cell_type": "markdown",
   "metadata": {},
   "source": [
    "# The Python Challenge\n",
    "<http://www.pythonchallenge.com>\n",
    "\n",
    "## 0. warming up\n",
    "<http://www.pythonchallenge.com/pc/def/0.html>\n",
    "![TV with 2^38 text displayed](images/0.jpg)"
   ]
  },
  {
   "cell_type": "code",
   "execution_count": null,
   "metadata": {},
   "outputs": [],
   "source": [
    "2 ** 38  # or pow(2, 38)"
   ]
  },
  {
   "cell_type": "markdown",
   "metadata": {},
   "source": [
    "<http://www.pythonchallenge.com/pc/def/274877906944.html>"
   ]
  },
  {
   "cell_type": "markdown",
   "metadata": {},
   "source": [
    "## 1. What about making trans?\n",
    "<http://www.pythonchallenge.com/pc/def/map.html>\n",
    "\n",
    "![A notepad page with K->M, O->Q, E->Q text](images/1.jpg \"everybody thinks twice before \n",
    "solving this.\")\n",
    "*everybody thinks twice before solving this.*\n",
    "\n",
    "> g fmnc wms bgblr rpylqjyrc gr zw fylb. rfyrq ufyr amknsrcpq ypc dmp. bmgle gr gl zw fylb gq glcddgagclr ylb rfyr'q ufw rfgq rcvr gq qm jmle. sqgle qrpgle.kyicrpylq() gq pcamkkclbcb. lmu ynnjw ml rfc spj.\n",
    "\n"
   ]
  },
  {
   "cell_type": "code",
   "execution_count": null,
   "metadata": {},
   "outputs": [],
   "source": [
    "text = (\"g fmnc wms bgblr rpylqjyrc gr zw fylb. rfyrq ufyr amknsrcpq ypc dmp. \"\n",
    "        \"bmgle gr gl zw fylb gq glcddgagclr ylb rfyr'q ufw rfgq rcvr gq qm jmle. \"\n",
    "        \"sqgle qrpgle.kyicrpylq() gq pcamkkclbcb. lmu ynnjw ml rfc spj.\")\n",
    "trans_table = str.maketrans('abcdefghijklmnopqrstuvwxyz',\n",
    "                            'cdefghijklmnopqrstuvwxyzab')\n",
    "\n",
    "text.translate(trans_table)"
   ]
  },
  {
   "cell_type": "code",
   "execution_count": null,
   "metadata": {},
   "outputs": [],
   "source": [
    "'map'.translate(trans_table)"
   ]
  },
  {
   "cell_type": "markdown",
   "metadata": {},
   "source": [
    "## 2. ocr\n",
    "<http://www.pythonchallenge.com/pc/def/ocr.html>\n",
    "\n",
    "![An open book with small, unreadable text](images/2.jpg \"recognize the characters. maybe they are in the book, \n",
    "but MAYBE they are in the page source.\")\n",
    "*recognize the characters. maybe they are in the book,  \n",
    "but MAYBE they are in the page source.*\n",
    "\n",
    "Page source sample (see [resources/2-source.txt](resources/2-source.txt) for full source text):\n",
    "\n",
    "    <!--\n",
    "    find rare characters in the mess below:\n",
    "    -->\n",
    "\n",
    "    <!--\n",
    "    %%$@_$^__#)^)&!_+]!*@&^}@[@%]()%+$&[(_@%+%$*^@$^!+]!&_#)_*}{}}!}_]$[%}@[{_@#_^{*\n",
    "    @##&{#&{&)*%(]{{([*}@[@&]+!!*{)!}{%+{))])[!^})+)$]#{*+^((@^@}$[**$&^{$!@#$%)!@(&\n",
    "    +^!{%_$&@^!}$_${)$_#)!({@!)(^}!*^&!$%_&&}&_#&@{)]{+)%*{&*%*&@%$+]!*__(#!*){%&@++\n",
    "    [skipped other 1217 lines]\n",
    "    -->\n",
    "    \n",
    "Resources:\n",
    "- <https://stackoverflow.com/questions/12330522/reading-a-file-without-newlines>\n",
    "- <https://docs.python.org/3/library/collections.html#collections.Counter>"
   ]
  },
  {
   "cell_type": "code",
   "execution_count": null,
   "metadata": {},
   "outputs": [],
   "source": [
    "from collections import Counter\n",
    "\n",
    "with open('resources/2-source.txt') as f:\n",
    "    text = ''.join(f.read().splitlines())\n",
    "\n",
    "c = Counter(text)\n",
    "c.most_common()"
   ]
  },
  {
   "cell_type": "markdown",
   "metadata": {},
   "source": [
    "## 3. re\n",
    "<http://www.pythonchallenge.com/pc/def/equality.html>\n",
    "\n",
    "![3 big candles, then one small floating candle, and then 3 big candles again in row](images/3.jpg)\n",
    "*One small letter, surrounded by __EXACTLY__ three big bodyguards on each of its sides.*\n",
    "\n",
    "page source sample (see [resources/3-source.txt](resources/3-source.txt) for full source text):\n",
    "\n",
    "    <!--\n",
    "    kAewtloYgcFQaJNhHVGxXDiQmzjfcpYbzxlWrVcqsmUbCunkfxZWDZjUZMiGqhRRiUvGmYmvnJIHEmbT\n",
    "    MUKLECKdCthezSYBpIElRnZugFAxDRtQPpyeCBgBfaRVvvguRXLvkAdLOeCKxsDUvBBCwdpMMWmuELeG\n",
    "    ENihrpCLhujoBqPRDPvfzcwadMMMbkmkzCCzoTPfbRlzBqMblmxTxNniNoCufprWXxgHZpldkoLCrHJq\n",
    "    [skipped other 1247 lines]\n",
    "    -->"
   ]
  },
  {
   "cell_type": "code",
   "execution_count": null,
   "metadata": {},
   "outputs": [],
   "source": [
    "import re\n",
    "\n",
    "with open('resources/3-source.txt') as f:\n",
    "    text = ''.join(f.read().splitlines())\n",
    "    \n",
    "letter_with_3_bodyguards_re = re.compile(r'[a-z][A-Z]{3}([a-z])[A-Z]{3}[a-z]')\n",
    "\n",
    "letter_with_3_bodyguards_re.findall(text)"
   ]
  },
  {
   "cell_type": "markdown",
   "metadata": {},
   "source": [
    "<http://www.pythonchallenge.com/pc/def/linkedlist.html>"
   ]
  },
  {
   "cell_type": "markdown",
   "metadata": {},
   "source": [
    "## 4. follow the chain\n",
    "http://www.pythonchallenge.com/pc/def/linkedlist.php\n",
    "\n",
    "![two man logging crosscut tree saw wooden toy](images/4.jpg)\n",
    "\n",
    "    <!-- urllib may help. DON'T TRY ALL NOTHINGS, since it will never \n",
    "    end. 400 times is more than enough. -->"
   ]
  },
  {
   "cell_type": "code",
   "execution_count": null,
   "metadata": {},
   "outputs": [],
   "source": [
    "import re\n",
    "from urllib.request import urlopen\n",
    "\n",
    "url_template = 'http://www.pythonchallenge.com/pc/def/linkedlist.php?nothing={}'\n",
    "nothing = '12345'\n",
    "nothing_re = re.compile(r'next nothing is (\\d+)')\n",
    "\n",
    "for i in range(1, 401):\n",
    "    with urlopen(url_template.format(nothing)) as response:\n",
    "       html = response.read().decode('utf-8')\n",
    "       # print(\"{:03}. {}\".format(i, html))\n",
    "        \n",
    "    print('.', sep='', end='')\n",
    "\n",
    "    match = nothing_re.search(html)\n",
    "    if match:\n",
    "        nothing = match.group(1)\n",
    "    else:\n",
    "        if 'divide by two' in html.lower():\n",
    "            nothing = int(nothing) / 2\n",
    "        else:\n",
    "            print(html)\n",
    "            break"
   ]
  },
  {
   "cell_type": "markdown",
   "metadata": {},
   "source": [
    "## 5. peak hell\n",
    "http://www.pythonchallenge.com/pc/def/peak.html\n",
    "\n",
    "![green round mountain](images/5.jpg)\n",
    "*pronounce it*\n",
    "\n",
    "page source:\n",
    "\n",
    "    <peakhell src=\"banner.p\"/>\n",
    "\n",
    "    <!-- peak hell sounds familiar ? -->"
   ]
  },
  {
   "cell_type": "code",
   "execution_count": null,
   "metadata": {},
   "outputs": [],
   "source": [
    "import pickle\n",
    "\n",
    "def ascii_printer(data):\n",
    "    for row in data:\n",
    "        for char, num in row:\n",
    "            print(char * num, sep='', end='')\n",
    "        print()\n",
    "\n",
    "with open('resources/5-banner.p', 'rb') as f:\n",
    "    data = pickle.load(f)\n",
    "    \n",
    "ascii_printer(data)"
   ]
  },
  {
   "cell_type": "markdown",
   "metadata": {},
   "source": [
    "## 6. now there are pairs\n",
    "<http://www.pythonchallenge.com/pc/def/channel.html>\n",
    "\n",
    "![black pants with open zipper](images/6.jpg)\n",
    "\n",
    "page source:\n",
    "\n",
    "    <html> <!-- <-- zip -->\n",
    "    \n",
    "<http://www.pythonchallenge.com/pc/def/channel.zip>"
   ]
  },
  {
   "cell_type": "code",
   "execution_count": null,
   "metadata": {},
   "outputs": [],
   "source": [
    "import zipfile\n",
    "\n",
    "nothing = '90052'\n",
    "nothing_re = re.compile(r'next nothing is (\\d+)')\n",
    "comments = []\n",
    "\n",
    "with zipfile.ZipFile('resources/6-channel.zip', 'r') as zf:\n",
    "    for _ in range(len(zf.namelist())):\n",
    "        filename = '{}.txt'.format(nothing)\n",
    "        text = zf.read(filename).decode('utf-8')\n",
    "        info = zf.getinfo(filename)\n",
    "        \n",
    "        comments.append(info.comment.decode('ascii'))\n",
    "\n",
    "        match = nothing_re.search(text.lower())\n",
    "        if match:\n",
    "            nothing = match.group(1)\n",
    "        else:\n",
    "            print(text)\n",
    "            break\n",
    "\n",
    "print()\n",
    "print(''.join(comments))"
   ]
  },
  {
   "cell_type": "markdown",
   "metadata": {},
   "source": [
    "## 7. smarty\n",
    "<http://www.pythonchallenge.com/pc/def/oxygen.html>\n",
    "\n",
    "![river shore. grayscale line crossing the image](images/7.png)\n",
    "\n",
    "\n",
    "Resources:\n",
    "- https://stackoverflow.com/questions/138250/how-can-i-read-the-rgb-value-of-a-given-pixel-in-python"
   ]
  },
  {
   "cell_type": "code",
   "execution_count": null,
   "metadata": {},
   "outputs": [],
   "source": [
    "from PIL import Image\n",
    "\n",
    "im = Image.open('images/7.png')\n",
    "px = im.load()\n",
    "\n",
    "x = 8\n",
    "y = 47\n",
    "\n",
    "color_values = []\n",
    "color_values.append(px[0, 47][0])\n",
    "\n",
    "while x < 608:\n",
    "    color_values.append(px[x, y][0])\n",
    "    x += 7\n",
    "\n",
    "print(''.join(chr(v) for v in color_values))\n",
    "\n",
    "print(''.join(chr(v) for v in [105, 110, 116, 101, 103, 114, 105, 116, 121]))"
   ]
  },
  {
   "cell_type": "markdown",
   "metadata": {},
   "source": [
    "## 8. working hard?\n",
    "http://www.pythonchallenge.com/pc/def/integrity.html\n",
    "\n",
    "![A fly on a flower](images/8.jpg)\n",
    "*Where is the missing link?*\n",
    "\n",
    "Page source:\n",
    "\n",
    "    <!--\n",
    "    un: 'BZh91AY&SYA\\xaf\\x82\\r\\x00\\x00\\x01\\x01\\x80\\x02\\xc0\\x02\\x00 \\x00!\\x9ah3M\\x07<]\\xc9\\x14\\xe1BA\\x06\\xbe\\x084'\n",
    "    pw: 'BZh91AY&SY\\x94$|\\x0e\\x00\\x00\\x00\\x81\\x00\\x03$ \\x00!\\x9ah3M\\x13<]\\xc9\\x14\\xe1BBP\\x91\\xf08'\n",
    "    -->"
   ]
  },
  {
   "cell_type": "code",
   "execution_count": null,
   "metadata": {},
   "outputs": [],
   "source": [
    "import bz2\n",
    "\n",
    "un = b'BZh91AY&SYA\\xaf\\x82\\r\\x00\\x00\\x01\\x01\\x80\\x02\\xc0\\x02\\x00 \\x00!\\x9ah3M\\x07<]\\xc9\\x14\\xe1BA\\x06\\xbe\\x084'\n",
    "pw = b'BZh91AY&SY\\x94$|\\x0e\\x00\\x00\\x00\\x81\\x00\\x03$ \\x00!\\x9ah3M\\x13<]\\xc9\\x14\\xe1BBP\\x91\\xf08'\n",
    "\n",
    "print(bz2.decompress(un), bz2.decompress(pw))"
   ]
  },
  {
   "cell_type": "markdown",
   "metadata": {},
   "source": [
    "## 9. connect the dots\n",
    "http://www.pythonchallenge.com/pc/return/good.html\n",
    "\n",
    "![branches of a dry tree. small black points follow its curves](images/9.jpg)\n",
    "\n",
    "**Instructions:**\n",
    "\n",
    "first+second=?\n",
    "\n",
    "first:  \n",
    "146,399,163,403,170,393,169,391,166,386,170,381,170,371,170,355,169,346,167,335,170,329,170,320,170,  \n",
    "310,171,301,173,290,178,289,182,287,188,286,190,286,192,291,194,296,195,305,194,307,191,312,190,316,  \n",
    "...  \n",
    "(See [first.txt](resources/9-first.txt) for full text)\n",
    "\n",
    "second:  \n",
    "156,141,165,135,169,131,176,130,187,134,191,140,191,146,186,150,179,155,175,157,168,157,163,157,159,  \n",
    "157,158,164,159,175,159,181,157,191,154,197,153,205,153,210,152,212,147,215,146,218,143,220,132,220,  \n",
    "...  \n",
    "(See [second.txt](resources/9-second.txt) for full text)\n"
   ]
  },
  {
   "cell_type": "code",
   "execution_count": null,
   "metadata": {},
   "outputs": [],
   "source": [
    "%matplotlib inline\n",
    "import matplotlib.pyplot as plt\n",
    "\n",
    "with open('resources/9-first.txt') as f1, \\\n",
    "     open('resources/9-second.txt') as f2:\n",
    "    first = f1.read()\n",
    "    second = f2.read()\n",
    "\n",
    "first = [int(s.strip()) for s in first.split(',')]\n",
    "second = [int(s.strip()) for s in second.split(',')]\n",
    "\n",
    "plt.plot(first[::2], first[1::2], linewidth=4)\n",
    "plt.plot(second[::2], second[1::2], linewidth=4)\n",
    "plt.show()"
   ]
  },
  {
   "cell_type": "markdown",
   "metadata": {},
   "source": [
    "## 10. what are you looking at?\n",
    "http://www.pythonchallenge.com/pc/return/bull.html\n",
    "\n",
    "![A cow looking at you](images/10.jpg)\n",
    "*len(a[30]) = ?*\n",
    "\n",
    "Source of [sequence.txt](http://www.pythonchallenge.com/pc/return/sequence.txt):\n",
    "\n",
    "    a = [1, 11, 21, 1211, 111221,\n",
    "    \n",
    "Resources:\n",
    "- https://en.wikipedia.org/wiki/Look-and-say_sequence"
   ]
  },
  {
   "cell_type": "code",
   "execution_count": null,
   "metadata": {},
   "outputs": [],
   "source": [
    "def look_and_say(number):\n",
    "    next_number = []\n",
    "    \n",
    "    while number:\n",
    "        digit = number[0]\n",
    "        number_left = number.lstrip(digit)\n",
    "        \n",
    "        next_number.append('{count}{digit}'.format(\n",
    "            digit=digit,\n",
    "            count=len(number) - len(number_left)\n",
    "        ))\n",
    "        \n",
    "        number = number_left\n",
    "        \n",
    "    return ''.join(next_number)\n",
    "\n",
    "number = '1'\n",
    "for _ in range(30):\n",
    "    number = look_and_say(number)\n",
    "\n",
    "print(len(number))"
   ]
  },
  {
   "cell_type": "markdown",
   "metadata": {},
   "source": [
    "## 11. odd even\n",
    "http://www.pythonchallenge.com/pc/return/5808.html\n",
    "\n",
    "![blurry figures of people](images/11.jpg)\n",
    "\n",
    "Resources:\n",
    "- https://stackoverflow.com/questions/26649716/how-to-show-pil-image-in-ipython-notebook"
   ]
  },
  {
   "cell_type": "code",
   "execution_count": null,
   "metadata": {},
   "outputs": [],
   "source": [
    "from IPython.display import display\n",
    "from matplotlib.pyplot import imshow\n",
    "import numpy as np\n",
    "from PIL import Image\n",
    "\n",
    "im = Image.open('images/11.jpg')\n",
    "ima = np.array(im)\n",
    "\n",
    "im1a = np.array([[[0,0,0] for x in range(a.shape[1] // 2)]\n",
    "                 for y in range(a.shape[0])],\n",
    "                dtype=np.uint8)\n",
    "\n",
    "for i, row in enumerate(ima):\n",
    "    if i % 2 == 0:\n",
    "        im1a[i] = ima[i, ::2]\n",
    "    else:\n",
    "        im1a[i] = ima[i, 1::2]\n",
    "\n",
    "# Image.fromarray(im1a).show()\n",
    "# imshow(im1a)\n",
    "display(Image.fromarray(im1a))"
   ]
  },
  {
   "cell_type": "markdown",
   "metadata": {},
   "source": [
    "## 12. dealing evil\n",
    "![A table with playing cards](images/12.jpg)"
   ]
  }
 ],
 "metadata": {
  "kernelspec": {
   "display_name": "Python 3",
   "language": "python",
   "name": "python3"
  },
  "language_info": {
   "codemirror_mode": {
    "name": "ipython",
    "version": 3
   },
   "file_extension": ".py",
   "mimetype": "text/x-python",
   "name": "python",
   "nbconvert_exporter": "python",
   "pygments_lexer": "ipython3",
   "version": "3.7.1"
  }
 },
 "nbformat": 4,
 "nbformat_minor": 2
}
