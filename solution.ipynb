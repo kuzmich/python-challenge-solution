{
 "cells": [
  {
   "cell_type": "markdown",
   "metadata": {},
   "source": [
    "# The Python Challenge\n",
    "<http://www.pythonchallenge.com>\n",
    "\n",
    "## 0. warming up\n",
    "<http://www.pythonchallenge.com/pc/def/0.html>\n",
    "![TV with 2^38 text displayed](images/0.jpg)"
   ]
  },
  {
   "cell_type": "code",
   "execution_count": 1,
   "metadata": {},
   "outputs": [
    {
     "data": {
      "text/plain": [
       "274877906944"
      ]
     },
     "execution_count": 1,
     "metadata": {},
     "output_type": "execute_result"
    }
   ],
   "source": [
    "2 ** 38  # or pow(2, 38)"
   ]
  },
  {
   "cell_type": "markdown",
   "metadata": {},
   "source": [
    "<http://www.pythonchallenge.com/pc/def/274877906944.html>"
   ]
  },
  {
   "cell_type": "markdown",
   "metadata": {},
   "source": [
    "## 1. What about making trans?\n",
    "<http://www.pythonchallenge.com/pc/def/map.html>\n",
    "\n",
    "![A notepad page with K->M, O->Q, E->Q text](images/1.jpg \"everybody thinks twice before \n",
    "solving this.\")\n",
    "*everybody thinks twice before solving this.*\n",
    "\n",
    "> g fmnc wms bgblr rpylqjyrc gr zw fylb. rfyrq ufyr amknsrcpq ypc dmp. bmgle gr gl zw fylb gq glcddgagclr ylb rfyr'q ufw rfgq rcvr gq qm jmle. sqgle qrpgle.kyicrpylq() gq pcamkkclbcb. lmu ynnjw ml rfc spj.\n",
    "\n"
   ]
  },
  {
   "cell_type": "code",
   "execution_count": 2,
   "metadata": {},
   "outputs": [
    {
     "data": {
      "text/plain": [
       "\"i hope you didnt translate it by hand. thats what computers are for. doing it in by hand is inefficient and that's why this text is so long. using string.maketrans() is recommended. now apply on the url.\""
      ]
     },
     "execution_count": 2,
     "metadata": {},
     "output_type": "execute_result"
    }
   ],
   "source": [
    "text = (\"g fmnc wms bgblr rpylqjyrc gr zw fylb. rfyrq ufyr amknsrcpq ypc dmp. \"\n",
    "        \"bmgle gr gl zw fylb gq glcddgagclr ylb rfyr'q ufw rfgq rcvr gq qm jmle. \"\n",
    "        \"sqgle qrpgle.kyicrpylq() gq pcamkkclbcb. lmu ynnjw ml rfc spj.\")\n",
    "trans_table = str.maketrans('abcdefghijklmnopqrstuvwxyz',\n",
    "                            'cdefghijklmnopqrstuvwxyzab')\n",
    "\n",
    "text.translate(trans_table)"
   ]
  },
  {
   "cell_type": "code",
   "execution_count": 3,
   "metadata": {},
   "outputs": [
    {
     "data": {
      "text/plain": [
       "'ocr'"
      ]
     },
     "execution_count": 3,
     "metadata": {},
     "output_type": "execute_result"
    }
   ],
   "source": [
    "'map'.translate(trans_table)"
   ]
  },
  {
   "cell_type": "markdown",
   "metadata": {},
   "source": [
    "## 2. ocr\n",
    "<http://www.pythonchallenge.com/pc/def/ocr.html>\n",
    "\n",
    "![An open book with small, unreadable text](images/2.jpg \"recognize the characters. maybe they are in the book, \n",
    "but MAYBE they are in the page source.\")\n",
    "*recognize the characters. maybe they are in the book,  \n",
    "but MAYBE they are in the page source.*\n",
    "\n",
    "Page source sample (see [resources/2-source.txt](resources/2-source.txt) for full source text):\n",
    "\n",
    "    <!--\n",
    "    find rare characters in the mess below:\n",
    "    -->\n",
    "\n",
    "    <!--\n",
    "    %%$@_$^__#)^)&!_+]!*@&^}@[@%]()%+$&[(_@%+%$*^@$^!+]!&_#)_*}{}}!}_]$[%}@[{_@#_^{*\n",
    "    @##&{#&{&)*%(]{{([*}@[@&]+!!*{)!}{%+{))])[!^})+)$]#{*+^((@^@}$[**$&^{$!@#$%)!@(&\n",
    "    +^!{%_$&@^!}$_${)$_#)!({@!)(^}!*^&!$%_&&}&_#&@{)]{+)%*{&*%*&@%$+]!*__(#!*){%&@++\n",
    "    [skipped other 1217 lines]\n",
    "    -->\n",
    "    \n",
    "Resources:\n",
    "- <https://stackoverflow.com/questions/12330522/reading-a-file-without-newlines>\n",
    "- <https://docs.python.org/3/library/collections.html#collections.Counter>"
   ]
  },
  {
   "cell_type": "code",
   "execution_count": 4,
   "metadata": {},
   "outputs": [
    {
     "data": {
      "text/plain": [
       "[(')', 6186),\n",
       " ('@', 6157),\n",
       " ('(', 6154),\n",
       " (']', 6152),\n",
       " ('#', 6115),\n",
       " ('_', 6112),\n",
       " ('[', 6108),\n",
       " ('}', 6105),\n",
       " ('%', 6104),\n",
       " ('!', 6079),\n",
       " ('+', 6066),\n",
       " ('$', 6046),\n",
       " ('{', 6046),\n",
       " ('&', 6043),\n",
       " ('*', 6034),\n",
       " ('^', 6030),\n",
       " ('e', 1),\n",
       " ('q', 1),\n",
       " ('u', 1),\n",
       " ('a', 1),\n",
       " ('l', 1),\n",
       " ('i', 1),\n",
       " ('t', 1),\n",
       " ('y', 1)]"
      ]
     },
     "execution_count": 4,
     "metadata": {},
     "output_type": "execute_result"
    }
   ],
   "source": [
    "from collections import Counter\n",
    "\n",
    "with open('resources/2-source.txt') as f:\n",
    "    text = ''.join(f.read().splitlines())\n",
    "\n",
    "c = Counter(text)\n",
    "c.most_common()"
   ]
  },
  {
   "cell_type": "markdown",
   "metadata": {},
   "source": [
    "## 3. re\n",
    "<http://www.pythonchallenge.com/pc/def/equality.html>\n",
    "\n",
    "![3 big candles, then one small floating candle, and then 3 big candles again in row](images/3.jpg)\n",
    "*One small letter, surrounded by __EXACTLY__ three big bodyguards on each of its sides.*\n",
    "\n",
    "page source sample (see [resources/3-source.txt](resources/3-source.txt) for full source text):\n",
    "\n",
    "    <!--\n",
    "    kAewtloYgcFQaJNhHVGxXDiQmzjfcpYbzxlWrVcqsmUbCunkfxZWDZjUZMiGqhRRiUvGmYmvnJIHEmbT\n",
    "    MUKLECKdCthezSYBpIElRnZugFAxDRtQPpyeCBgBfaRVvvguRXLvkAdLOeCKxsDUvBBCwdpMMWmuELeG\n",
    "    ENihrpCLhujoBqPRDPvfzcwadMMMbkmkzCCzoTPfbRlzBqMblmxTxNniNoCufprWXxgHZpldkoLCrHJq\n",
    "    [skipped other 1247 lines]\n",
    "    -->"
   ]
  },
  {
   "cell_type": "code",
   "execution_count": 5,
   "metadata": {},
   "outputs": [
    {
     "data": {
      "text/plain": [
       "['l', 'i', 'n', 'k', 'e', 'd', 'l', 'i', 's', 't']"
      ]
     },
     "execution_count": 5,
     "metadata": {},
     "output_type": "execute_result"
    }
   ],
   "source": [
    "import re\n",
    "\n",
    "with open('resources/3-source.txt') as f:\n",
    "    text = ''.join(f.read().splitlines())\n",
    "    \n",
    "letter_with_3_bodyguards_re = re.compile(r'[a-z][A-Z]{3}([a-z])[A-Z]{3}[a-z]')\n",
    "\n",
    "letter_with_3_bodyguards_re.findall(text)"
   ]
  },
  {
   "cell_type": "markdown",
   "metadata": {},
   "source": [
    "<http://www.pythonchallenge.com/pc/def/linkedlist.html>"
   ]
  },
  {
   "cell_type": "markdown",
   "metadata": {},
   "source": [
    "## 4. follow the chain\n",
    "http://www.pythonchallenge.com/pc/def/linkedlist.php\n",
    "\n",
    "![two man logging crosscut tree saw wooden toy](images/4.jpg)\n",
    "\n",
    "    <!-- urllib may help. DON'T TRY ALL NOTHINGS, since it will never \n",
    "    end. 400 times is more than enough. -->"
   ]
  },
  {
   "cell_type": "code",
   "execution_count": 6,
   "metadata": {},
   "outputs": [
    {
     "name": "stdout",
     "output_type": "stream",
     "text": [
      "...........................................................................................................................................................................................................................................................peak.html\n"
     ]
    }
   ],
   "source": [
    "import re\n",
    "from urllib.request import urlopen\n",
    "\n",
    "url_template = 'http://www.pythonchallenge.com/pc/def/linkedlist.php?nothing={}'\n",
    "nothing = '12345'\n",
    "nothing_re = re.compile(r'next nothing is (\\d+)')\n",
    "\n",
    "for i in range(1, 401):\n",
    "    with urlopen(url_template.format(nothing)) as response:\n",
    "       html = response.read().decode('utf-8')\n",
    "       # print(\"{:03}. {}\".format(i, html))\n",
    "        \n",
    "    print('.', sep='', end='')\n",
    "\n",
    "    match = nothing_re.search(html)\n",
    "    if match:\n",
    "        nothing = match.group(1)\n",
    "    else:\n",
    "        if 'divide by two' in html.lower():\n",
    "            nothing = int(nothing) / 2\n",
    "        else:\n",
    "            print(html)\n",
    "            break"
   ]
  },
  {
   "cell_type": "markdown",
   "metadata": {},
   "source": [
    "## 5. peak hell\n",
    "http://www.pythonchallenge.com/pc/def/peak.html\n",
    "\n",
    "![green round mountain](images/5.jpg)\n",
    "*pronounce it*\n",
    "\n",
    "page source:\n",
    "\n",
    "    <peakhell src=\"banner.p\"/>\n",
    "\n",
    "    <!-- peak hell sounds familiar ? -->"
   ]
  },
  {
   "cell_type": "code",
   "execution_count": 7,
   "metadata": {},
   "outputs": [
    {
     "name": "stdout",
     "output_type": "stream",
     "text": [
      "                                                                                               \n",
      "              #####                                                                      ##### \n",
      "               ####                                                                       #### \n",
      "               ####                                                                       #### \n",
      "               ####                                                                       #### \n",
      "               ####                                                                       #### \n",
      "               ####                                                                       #### \n",
      "               ####                                                                       #### \n",
      "               ####                                                                       #### \n",
      "      ###      ####   ###         ###       #####   ###    #####   ###          ###       #### \n",
      "   ###   ##    #### #######     ##  ###      #### #######   #### #######     ###  ###     #### \n",
      "  ###     ###  #####    ####   ###   ####    #####    ####  #####    ####   ###     ###   #### \n",
      " ###           ####     ####   ###    ###    ####     ####  ####     ####  ###      ####  #### \n",
      " ###           ####     ####          ###    ####     ####  ####     ####  ###       ###  #### \n",
      "####           ####     ####     ##   ###    ####     ####  ####     #### ####       ###  #### \n",
      "####           ####     ####   ##########    ####     ####  ####     #### ##############  #### \n",
      "####           ####     ####  ###    ####    ####     ####  ####     #### ####            #### \n",
      "####           ####     #### ####     ###    ####     ####  ####     #### ####            #### \n",
      " ###           ####     #### ####     ###    ####     ####  ####     ####  ###            #### \n",
      "  ###      ##  ####     ####  ###    ####    ####     ####  ####     ####   ###      ##   #### \n",
      "   ###    ##   ####     ####   ###########   ####     ####  ####     ####    ###    ##    #### \n",
      "      ###     ######    #####    ##    #### ######    ###########    #####      ###      ######\n",
      "                                                                                               \n"
     ]
    }
   ],
   "source": [
    "import pickle\n",
    "\n",
    "def ascii_printer(data):\n",
    "    for row in data:\n",
    "        for char, num in row:\n",
    "            print(char * num, sep='', end='')\n",
    "        print()\n",
    "\n",
    "with open('resources/5-banner.p', 'rb') as f:\n",
    "    data = pickle.load(f)\n",
    "    \n",
    "ascii_printer(data)"
   ]
  },
  {
   "cell_type": "markdown",
   "metadata": {},
   "source": [
    "## 6. now there are pairs\n",
    "<http://www.pythonchallenge.com/pc/def/channel.html>\n",
    "\n",
    "![black pants with open zipper](images/6.jpg)\n",
    "\n",
    "page source:\n",
    "\n",
    "    <html> <!-- <-- zip -->\n",
    "    \n",
    "<http://www.pythonchallenge.com/pc/def/channel.zip>"
   ]
  },
  {
   "cell_type": "code",
   "execution_count": 8,
   "metadata": {},
   "outputs": [
    {
     "name": "stdout",
     "output_type": "stream",
     "text": [
      "Collect the comments.\n",
      "\n",
      "****************************************************************\n",
      "****************************************************************\n",
      "**                                                            **\n",
      "**   OO    OO    XX      YYYY    GG    GG  EEEEEE NN      NN  **\n",
      "**   OO    OO  XXXXXX   YYYYYY   GG   GG   EEEEEE  NN    NN   **\n",
      "**   OO    OO XXX  XXX YYY   YY  GG GG     EE       NN  NN    **\n",
      "**   OOOOOOOO XX    XX YY        GGG       EEEEE     NNNN     **\n",
      "**   OOOOOOOO XX    XX YY        GGG       EEEEE      NN      **\n",
      "**   OO    OO XXX  XXX YYY   YY  GG GG     EE         NN      **\n",
      "**   OO    OO  XXXXXX   YYYYYY   GG   GG   EEEEEE     NN      **\n",
      "**   OO    OO    XX      YYYY    GG    GG  EEEEEE     NN      **\n",
      "**                                                            **\n",
      "****************************************************************\n",
      " **************************************************************\n",
      "\n"
     ]
    }
   ],
   "source": [
    "import zipfile\n",
    "\n",
    "nothing = '90052'\n",
    "nothing_re = re.compile(r'next nothing is (\\d+)')\n",
    "comments = []\n",
    "\n",
    "with zipfile.ZipFile('resources/6-channel.zip', 'r') as zf:\n",
    "    for _ in range(len(zf.namelist())):\n",
    "        filename = '{}.txt'.format(nothing)\n",
    "        text = zf.read(filename).decode('utf-8')\n",
    "        info = zf.getinfo(filename)\n",
    "        \n",
    "        comments.append(info.comment.decode('ascii'))\n",
    "\n",
    "        match = nothing_re.search(text.lower())\n",
    "        if match:\n",
    "            nothing = match.group(1)\n",
    "        else:\n",
    "            print(text)\n",
    "            break\n",
    "\n",
    "print()\n",
    "print(''.join(comments))"
   ]
  },
  {
   "cell_type": "markdown",
   "metadata": {},
   "source": [
    "## 7. smarty\n",
    "<http://www.pythonchallenge.com/pc/def/oxygen.html>\n",
    "\n",
    "![river shore. grayscale line crossing the image](images/7.png)\n",
    "\n",
    "\n",
    "Resources:\n",
    "- https://stackoverflow.com/questions/138250/how-can-i-read-the-rgb-value-of-a-given-pixel-in-python"
   ]
  },
  {
   "cell_type": "code",
   "execution_count": 9,
   "metadata": {},
   "outputs": [
    {
     "name": "stdout",
     "output_type": "stream",
     "text": [
      "smart guy, you made it. the next level is [105, 110, 116, 101, 103, 114, 105, 116, 121]\n",
      "integrity\n"
     ]
    }
   ],
   "source": [
    "from PIL import Image\n",
    "\n",
    "im = Image.open('images/7.png')\n",
    "px = im.load()\n",
    "\n",
    "x = 8\n",
    "y = 47\n",
    "\n",
    "color_values = []\n",
    "color_values.append(px[0, 47][0])\n",
    "\n",
    "while x < 608:\n",
    "    color_values.append(px[x, y][0])\n",
    "    x += 7\n",
    "\n",
    "print(''.join(chr(v) for v in color_values))\n",
    "\n",
    "print(''.join(chr(v) for v in [105, 110, 116, 101, 103, 114, 105, 116, 121]))"
   ]
  },
  {
   "cell_type": "markdown",
   "metadata": {},
   "source": [
    "## 8. working hard?\n",
    "http://www.pythonchallenge.com/pc/def/integrity.html\n",
    "\n",
    "![A fly on a flower](images/8.jpg)\n",
    "*Where is the missing link?*\n",
    "\n",
    "Page source:\n",
    "\n",
    "    <!--\n",
    "    un: 'BZh91AY&SYA\\xaf\\x82\\r\\x00\\x00\\x01\\x01\\x80\\x02\\xc0\\x02\\x00 \\x00!\\x9ah3M\\x07<]\\xc9\\x14\\xe1BA\\x06\\xbe\\x084'\n",
    "    pw: 'BZh91AY&SY\\x94$|\\x0e\\x00\\x00\\x00\\x81\\x00\\x03$ \\x00!\\x9ah3M\\x13<]\\xc9\\x14\\xe1BBP\\x91\\xf08'\n",
    "    -->"
   ]
  },
  {
   "cell_type": "code",
   "execution_count": 10,
   "metadata": {},
   "outputs": [
    {
     "name": "stdout",
     "output_type": "stream",
     "text": [
      "b'huge' b'file'\n"
     ]
    }
   ],
   "source": [
    "import bz2\n",
    "\n",
    "un = b'BZh91AY&SYA\\xaf\\x82\\r\\x00\\x00\\x01\\x01\\x80\\x02\\xc0\\x02\\x00 \\x00!\\x9ah3M\\x07<]\\xc9\\x14\\xe1BA\\x06\\xbe\\x084'\n",
    "pw = b'BZh91AY&SY\\x94$|\\x0e\\x00\\x00\\x00\\x81\\x00\\x03$ \\x00!\\x9ah3M\\x13<]\\xc9\\x14\\xe1BBP\\x91\\xf08'\n",
    "\n",
    "print(bz2.decompress(un), bz2.decompress(pw))"
   ]
  },
  {
   "cell_type": "markdown",
   "metadata": {},
   "source": [
    "## 9. connect the dots\n",
    "http://www.pythonchallenge.com/pc/return/good.html\n",
    "\n",
    "![branches of a dry tree. small black points follow its curves](images/9.jpg)\n",
    "\n",
    "Page source:\n",
    "\n",
    "    <!--\n",
    "    first+second=?\n",
    "\n",
    "    first:\n",
    "    146,399,163,403,170,393,169,391,166,386,170,381,170,371,170,355,169,346,167,335,170,329,170,320,170,\n",
    "    310,171,301,173,290,178,289,182,287,188,286,190,286,192,291,194,296,195,305,194,307,191,312,190,316,\n",
    "    190,321,192,331,193,338,196,341,197,346,199,352,198,360,197,366,197,373,196,380,197,383,196,387,192,\n",
    "    389,191,392,190,396,189,400,194,401,201,402,208,403,213,402,216,401,219,397,219,393,216,390,215,385,\n",
    "    215,379,213,373,213,365,212,360,210,353,210,347,212,338,213,329,214,319,215,311,215,306,216,296,218,\n",
    "    290,221,283,225,282,233,284,238,287,243,290,250,291,255,294,261,293,265,291,271,291,273,289,278,287,\n",
    "    279,285,281,280,284,278,284,276,287,277,289,283,291,286,294,291,296,295,299,300,301,304,304,320,305,\n",
    "    327,306,332,307,341,306,349,303,354,301,364,301,371,297,375,292,384,291,386,302,393,324,391,333,387,\n",
    "    328,375,329,367,329,353,330,341,331,328,336,319,338,310,341,304,341,285,341,278,343,269,344,262,346,\n",
    "    259,346,251,349,259,349,264,349,273,349,280,349,288,349,295,349,298,354,293,356,286,354,279,352,268,\n",
    "    352,257,351,249,350,234,351,211,352,197,354,185,353,171,351,154,348,147,342,137,339,132,330,122,327,\n",
    "    120,314,116,304,117,293,118,284,118,281,122,275,128,265,129,257,131,244,133,239,134,228,136,221,137,\n",
    "    214,138,209,135,201,132,192,130,184,131,175,129,170,131,159,134,157,134,160,130,170,125,176,114,176,\n",
    "    102,173,103,172,108,171,111,163,115,156,116,149,117,142,116,136,115,129,115,124,115,120,115,115,117,\n",
    "    113,120,109,122,102,122,100,121,95,121,89,115,87,110,82,109,84,118,89,123,93,129,100,130,108,132,110,\n",
    "    133,110,136,107,138,105,140,95,138,86,141,79,149,77,155,81,162,90,165,97,167,99,171,109,171,107,161,\n",
    "    111,156,113,170,115,185,118,208,117,223,121,239,128,251,133,259,136,266,139,276,143,290,148,310,151,\n",
    "    332,155,348,156,353,153,366,149,379,147,394,146,399\n",
    "\n",
    "    second:\n",
    "    156,141,165,135,169,131,176,130,187,134,191,140,191,146,186,150,179,155,175,157,168,157,163,157,159,\n",
    "    157,158,164,159,175,159,181,157,191,154,197,153,205,153,210,152,212,147,215,146,218,143,220,132,220,\n",
    "    125,217,119,209,116,196,115,185,114,172,114,167,112,161,109,165,107,170,99,171,97,167,89,164,81,162,\n",
    "    77,155,81,148,87,140,96,138,105,141,110,136,111,126,113,129,118,117,128,114,137,115,146,114,155,115,\n",
    "    158,121,157,128,156,134,157,136,156,136\n",
    "\n",
    "    -->"
   ]
  },
  {
   "cell_type": "code",
   "execution_count": 12,
   "metadata": {},
   "outputs": [
    {
     "data": {
      "image/png": "[encoded data removed]",
      "text/plain": [
       "<Figure size 432x288 with 1 Axes>"
      ]
     },
     "metadata": {
      "needs_background": "light"
     },
     "output_type": "display_data"
    }
   ],
   "source": [
    "%matplotlib inline\n",
    "import matplotlib.pyplot as plt\n",
    "\n",
    "first = \"\"\"\n",
    "146,399,163,403,170,393,169,391,166,386,170,381,170,371,170,355,169,346,167,335,170,329,170,320,170,\n",
    "310,171,301,173,290,178,289,182,287,188,286,190,286,192,291,194,296,195,305,194,307,191,312,190,316,\n",
    "190,321,192,331,193,338,196,341,197,346,199,352,198,360,197,366,197,373,196,380,197,383,196,387,192,\n",
    "389,191,392,190,396,189,400,194,401,201,402,208,403,213,402,216,401,219,397,219,393,216,390,215,385,\n",
    "215,379,213,373,213,365,212,360,210,353,210,347,212,338,213,329,214,319,215,311,215,306,216,296,218,\n",
    "290,221,283,225,282,233,284,238,287,243,290,250,291,255,294,261,293,265,291,271,291,273,289,278,287,\n",
    "279,285,281,280,284,278,284,276,287,277,289,283,291,286,294,291,296,295,299,300,301,304,304,320,305,\n",
    "327,306,332,307,341,306,349,303,354,301,364,301,371,297,375,292,384,291,386,302,393,324,391,333,387,\n",
    "328,375,329,367,329,353,330,341,331,328,336,319,338,310,341,304,341,285,341,278,343,269,344,262,346,\n",
    "259,346,251,349,259,349,264,349,273,349,280,349,288,349,295,349,298,354,293,356,286,354,279,352,268,\n",
    "352,257,351,249,350,234,351,211,352,197,354,185,353,171,351,154,348,147,342,137,339,132,330,122,327,\n",
    "120,314,116,304,117,293,118,284,118,281,122,275,128,265,129,257,131,244,133,239,134,228,136,221,137,\n",
    "214,138,209,135,201,132,192,130,184,131,175,129,170,131,159,134,157,134,160,130,170,125,176,114,176,\n",
    "102,173,103,172,108,171,111,163,115,156,116,149,117,142,116,136,115,129,115,124,115,120,115,115,117,\n",
    "113,120,109,122,102,122,100,121,95,121,89,115,87,110,82,109,84,118,89,123,93,129,100,130,108,132,110,\n",
    "133,110,136,107,138,105,140,95,138,86,141,79,149,77,155,81,162,90,165,97,167,99,171,109,171,107,161,\n",
    "111,156,113,170,115,185,118,208,117,223,121,239,128,251,133,259,136,266,139,276,143,290,148,310,151,\n",
    "332,155,348,156,353,153,366,149,379,147,394,146,399\n",
    "\"\"\"\n",
    "\n",
    "second = \"\"\"\n",
    "156,141,165,135,169,131,176,130,187,134,191,140,191,146,186,150,179,155,175,157,168,157,163,157,159,\n",
    "157,158,164,159,175,159,181,157,191,154,197,153,205,153,210,152,212,147,215,146,218,143,220,132,220,\n",
    "125,217,119,209,116,196,115,185,114,172,114,167,112,161,109,165,107,170,99,171,97,167,89,164,81,162,\n",
    "77,155,81,148,87,140,96,138,105,141,110,136,111,126,113,129,118,117,128,114,137,115,146,114,155,115,\n",
    "158,121,157,128,156,134,157,136,156,136\n",
    "\"\"\"\n",
    "\n",
    "first = [int(s.strip()) for s in first.strip().split(',')]\n",
    "second = [int(s.strip()) for s in second.strip().split(',')]\n",
    "\n",
    "plt.plot(first[::2], first[1::2], linewidth=4)\n",
    "plt.plot(second[::2], second[1::2], linewidth=4)\n",
    "plt.show()"
   ]
  }
 ],
 "metadata": {
  "kernelspec": {
   "display_name": "Python 3",
   "language": "python",
   "name": "python3"
  },
  "language_info": {
   "codemirror_mode": {
    "name": "ipython",
    "version": 3
   },
   "file_extension": ".py",
   "mimetype": "text/x-python",
   "name": "python",
   "nbconvert_exporter": "python",
   "pygments_lexer": "ipython3",
   "version": "3.7.1"
  }
 },
 "nbformat": 4,
 "nbformat_minor": 2
}
